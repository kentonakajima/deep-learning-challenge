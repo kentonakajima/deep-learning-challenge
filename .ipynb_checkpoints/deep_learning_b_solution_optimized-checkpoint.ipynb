{
 "cells": [
  {
   "cell_type": "markdown",
   "metadata": {
    "id": "dVREq8VA9DdD"
   },
   "source": [
    "## Preprocessing"
   ]
  },
  {
   "cell_type": "code",
   "execution_count": 1,
   "metadata": {
    "colab": {
     "base_uri": "https://localhost:8080/",
     "height": 206
    },
    "id": "6r0CNHQv9DdF",
    "outputId": "204190f2-0964-45ae-87bb-53909273587a"
   },
   "outputs": [
    {
     "name": "stdout",
     "output_type": "stream",
     "text": [
      "WARNING:tensorflow:From C:\\Users\\kento\\anaconda3\\Lib\\site-packages\\keras\\src\\losses.py:2976: The name tf.losses.sparse_softmax_cross_entropy is deprecated. Please use tf.compat.v1.losses.sparse_softmax_cross_entropy instead.\n",
      "\n"
     ]
    },
    {
     "data": {
      "text/html": [
       "<div>\n",
       "<style scoped>\n",
       "    .dataframe tbody tr th:only-of-type {\n",
       "        vertical-align: middle;\n",
       "    }\n",
       "\n",
       "    .dataframe tbody tr th {\n",
       "        vertical-align: top;\n",
       "    }\n",
       "\n",
       "    .dataframe thead th {\n",
       "        text-align: right;\n",
       "    }\n",
       "</style>\n",
       "<table border=\"1\" class=\"dataframe\">\n",
       "  <thead>\n",
       "    <tr style=\"text-align: right;\">\n",
       "      <th></th>\n",
       "      <th>EIN</th>\n",
       "      <th>NAME</th>\n",
       "      <th>APPLICATION_TYPE</th>\n",
       "      <th>AFFILIATION</th>\n",
       "      <th>CLASSIFICATION</th>\n",
       "      <th>USE_CASE</th>\n",
       "      <th>ORGANIZATION</th>\n",
       "      <th>STATUS</th>\n",
       "      <th>INCOME_AMT</th>\n",
       "      <th>SPECIAL_CONSIDERATIONS</th>\n",
       "      <th>ASK_AMT</th>\n",
       "      <th>IS_SUCCESSFUL</th>\n",
       "    </tr>\n",
       "  </thead>\n",
       "  <tbody>\n",
       "    <tr>\n",
       "      <th>0</th>\n",
       "      <td>10520599</td>\n",
       "      <td>BLUE KNIGHTS MOTORCYCLE CLUB</td>\n",
       "      <td>T10</td>\n",
       "      <td>Independent</td>\n",
       "      <td>C1000</td>\n",
       "      <td>ProductDev</td>\n",
       "      <td>Association</td>\n",
       "      <td>1</td>\n",
       "      <td>0</td>\n",
       "      <td>N</td>\n",
       "      <td>5000</td>\n",
       "      <td>1</td>\n",
       "    </tr>\n",
       "    <tr>\n",
       "      <th>1</th>\n",
       "      <td>10531628</td>\n",
       "      <td>AMERICAN CHESAPEAKE CLUB CHARITABLE TR</td>\n",
       "      <td>T3</td>\n",
       "      <td>Independent</td>\n",
       "      <td>C2000</td>\n",
       "      <td>Preservation</td>\n",
       "      <td>Co-operative</td>\n",
       "      <td>1</td>\n",
       "      <td>1-9999</td>\n",
       "      <td>N</td>\n",
       "      <td>108590</td>\n",
       "      <td>1</td>\n",
       "    </tr>\n",
       "    <tr>\n",
       "      <th>2</th>\n",
       "      <td>10547893</td>\n",
       "      <td>ST CLOUD PROFESSIONAL FIREFIGHTERS</td>\n",
       "      <td>T5</td>\n",
       "      <td>CompanySponsored</td>\n",
       "      <td>C3000</td>\n",
       "      <td>ProductDev</td>\n",
       "      <td>Association</td>\n",
       "      <td>1</td>\n",
       "      <td>0</td>\n",
       "      <td>N</td>\n",
       "      <td>5000</td>\n",
       "      <td>0</td>\n",
       "    </tr>\n",
       "    <tr>\n",
       "      <th>3</th>\n",
       "      <td>10553066</td>\n",
       "      <td>SOUTHSIDE ATHLETIC ASSOCIATION</td>\n",
       "      <td>T3</td>\n",
       "      <td>CompanySponsored</td>\n",
       "      <td>C2000</td>\n",
       "      <td>Preservation</td>\n",
       "      <td>Trust</td>\n",
       "      <td>1</td>\n",
       "      <td>10000-24999</td>\n",
       "      <td>N</td>\n",
       "      <td>6692</td>\n",
       "      <td>1</td>\n",
       "    </tr>\n",
       "    <tr>\n",
       "      <th>4</th>\n",
       "      <td>10556103</td>\n",
       "      <td>GENETIC RESEARCH INSTITUTE OF THE DESERT</td>\n",
       "      <td>T3</td>\n",
       "      <td>Independent</td>\n",
       "      <td>C1000</td>\n",
       "      <td>Heathcare</td>\n",
       "      <td>Trust</td>\n",
       "      <td>1</td>\n",
       "      <td>100000-499999</td>\n",
       "      <td>N</td>\n",
       "      <td>142590</td>\n",
       "      <td>1</td>\n",
       "    </tr>\n",
       "  </tbody>\n",
       "</table>\n",
       "</div>"
      ],
      "text/plain": [
       "        EIN                                      NAME APPLICATION_TYPE  \\\n",
       "0  10520599              BLUE KNIGHTS MOTORCYCLE CLUB              T10   \n",
       "1  10531628    AMERICAN CHESAPEAKE CLUB CHARITABLE TR               T3   \n",
       "2  10547893        ST CLOUD PROFESSIONAL FIREFIGHTERS               T5   \n",
       "3  10553066            SOUTHSIDE ATHLETIC ASSOCIATION               T3   \n",
       "4  10556103  GENETIC RESEARCH INSTITUTE OF THE DESERT               T3   \n",
       "\n",
       "        AFFILIATION CLASSIFICATION      USE_CASE  ORGANIZATION  STATUS  \\\n",
       "0       Independent          C1000    ProductDev   Association       1   \n",
       "1       Independent          C2000  Preservation  Co-operative       1   \n",
       "2  CompanySponsored          C3000    ProductDev   Association       1   \n",
       "3  CompanySponsored          C2000  Preservation         Trust       1   \n",
       "4       Independent          C1000     Heathcare         Trust       1   \n",
       "\n",
       "      INCOME_AMT SPECIAL_CONSIDERATIONS  ASK_AMT  IS_SUCCESSFUL  \n",
       "0              0                      N     5000              1  \n",
       "1         1-9999                      N   108590              1  \n",
       "2              0                      N     5000              0  \n",
       "3    10000-24999                      N     6692              1  \n",
       "4  100000-499999                      N   142590              1  "
      ]
     },
     "execution_count": 1,
     "metadata": {},
     "output_type": "execute_result"
    }
   ],
   "source": [
    "# Import our dependencies\n",
    "from sklearn.model_selection import train_test_split\n",
    "from sklearn.preprocessing import StandardScaler\n",
    "import pandas as pd\n",
    "import tensorflow as tf\n",
    "\n",
    "#  Import and read the charity_data.csv.\n",
    "import pandas as pd\n",
    "application_df = pd.read_csv(\"https://static.bc-edx.com/data/dl-1-2/m21/lms/starter/charity_data.csv\")\n",
    "application_df.head()"
   ]
  },
  {
   "cell_type": "code",
   "execution_count": 2,
   "metadata": {
    "colab": {
     "base_uri": "https://localhost:8080/",
     "height": 206
    },
    "id": "PRHQ3ad_9DdG",
    "outputId": "c5fca023-25dc-4fcf-bdaf-92f44bf3f8cb"
   },
   "outputs": [
    {
     "data": {
      "text/html": [
       "<div>\n",
       "<style scoped>\n",
       "    .dataframe tbody tr th:only-of-type {\n",
       "        vertical-align: middle;\n",
       "    }\n",
       "\n",
       "    .dataframe tbody tr th {\n",
       "        vertical-align: top;\n",
       "    }\n",
       "\n",
       "    .dataframe thead th {\n",
       "        text-align: right;\n",
       "    }\n",
       "</style>\n",
       "<table border=\"1\" class=\"dataframe\">\n",
       "  <thead>\n",
       "    <tr style=\"text-align: right;\">\n",
       "      <th></th>\n",
       "      <th>NAME</th>\n",
       "      <th>APPLICATION_TYPE</th>\n",
       "      <th>AFFILIATION</th>\n",
       "      <th>CLASSIFICATION</th>\n",
       "      <th>USE_CASE</th>\n",
       "      <th>ORGANIZATION</th>\n",
       "      <th>STATUS</th>\n",
       "      <th>INCOME_AMT</th>\n",
       "      <th>SPECIAL_CONSIDERATIONS</th>\n",
       "      <th>ASK_AMT</th>\n",
       "      <th>IS_SUCCESSFUL</th>\n",
       "    </tr>\n",
       "  </thead>\n",
       "  <tbody>\n",
       "    <tr>\n",
       "      <th>0</th>\n",
       "      <td>BLUE KNIGHTS MOTORCYCLE CLUB</td>\n",
       "      <td>T10</td>\n",
       "      <td>Independent</td>\n",
       "      <td>C1000</td>\n",
       "      <td>ProductDev</td>\n",
       "      <td>Association</td>\n",
       "      <td>1</td>\n",
       "      <td>0</td>\n",
       "      <td>N</td>\n",
       "      <td>5000</td>\n",
       "      <td>1</td>\n",
       "    </tr>\n",
       "    <tr>\n",
       "      <th>1</th>\n",
       "      <td>AMERICAN CHESAPEAKE CLUB CHARITABLE TR</td>\n",
       "      <td>T3</td>\n",
       "      <td>Independent</td>\n",
       "      <td>C2000</td>\n",
       "      <td>Preservation</td>\n",
       "      <td>Co-operative</td>\n",
       "      <td>1</td>\n",
       "      <td>1-9999</td>\n",
       "      <td>N</td>\n",
       "      <td>108590</td>\n",
       "      <td>1</td>\n",
       "    </tr>\n",
       "    <tr>\n",
       "      <th>2</th>\n",
       "      <td>ST CLOUD PROFESSIONAL FIREFIGHTERS</td>\n",
       "      <td>T5</td>\n",
       "      <td>CompanySponsored</td>\n",
       "      <td>C3000</td>\n",
       "      <td>ProductDev</td>\n",
       "      <td>Association</td>\n",
       "      <td>1</td>\n",
       "      <td>0</td>\n",
       "      <td>N</td>\n",
       "      <td>5000</td>\n",
       "      <td>0</td>\n",
       "    </tr>\n",
       "    <tr>\n",
       "      <th>3</th>\n",
       "      <td>SOUTHSIDE ATHLETIC ASSOCIATION</td>\n",
       "      <td>T3</td>\n",
       "      <td>CompanySponsored</td>\n",
       "      <td>C2000</td>\n",
       "      <td>Preservation</td>\n",
       "      <td>Trust</td>\n",
       "      <td>1</td>\n",
       "      <td>10000-24999</td>\n",
       "      <td>N</td>\n",
       "      <td>6692</td>\n",
       "      <td>1</td>\n",
       "    </tr>\n",
       "    <tr>\n",
       "      <th>4</th>\n",
       "      <td>GENETIC RESEARCH INSTITUTE OF THE DESERT</td>\n",
       "      <td>T3</td>\n",
       "      <td>Independent</td>\n",
       "      <td>C1000</td>\n",
       "      <td>Heathcare</td>\n",
       "      <td>Trust</td>\n",
       "      <td>1</td>\n",
       "      <td>100000-499999</td>\n",
       "      <td>N</td>\n",
       "      <td>142590</td>\n",
       "      <td>1</td>\n",
       "    </tr>\n",
       "  </tbody>\n",
       "</table>\n",
       "</div>"
      ],
      "text/plain": [
       "                                       NAME APPLICATION_TYPE  \\\n",
       "0              BLUE KNIGHTS MOTORCYCLE CLUB              T10   \n",
       "1    AMERICAN CHESAPEAKE CLUB CHARITABLE TR               T3   \n",
       "2        ST CLOUD PROFESSIONAL FIREFIGHTERS               T5   \n",
       "3            SOUTHSIDE ATHLETIC ASSOCIATION               T3   \n",
       "4  GENETIC RESEARCH INSTITUTE OF THE DESERT               T3   \n",
       "\n",
       "        AFFILIATION CLASSIFICATION      USE_CASE  ORGANIZATION  STATUS  \\\n",
       "0       Independent          C1000    ProductDev   Association       1   \n",
       "1       Independent          C2000  Preservation  Co-operative       1   \n",
       "2  CompanySponsored          C3000    ProductDev   Association       1   \n",
       "3  CompanySponsored          C2000  Preservation         Trust       1   \n",
       "4       Independent          C1000     Heathcare         Trust       1   \n",
       "\n",
       "      INCOME_AMT SPECIAL_CONSIDERATIONS  ASK_AMT  IS_SUCCESSFUL  \n",
       "0              0                      N     5000              1  \n",
       "1         1-9999                      N   108590              1  \n",
       "2              0                      N     5000              0  \n",
       "3    10000-24999                      N     6692              1  \n",
       "4  100000-499999                      N   142590              1  "
      ]
     },
     "execution_count": 2,
     "metadata": {},
     "output_type": "execute_result"
    }
   ],
   "source": [
    "# Drop the non-beneficial ID columns, 'EIN' and 'NAME'.\n",
    "#  YOUR CODE GOES HERE\n",
    "application_df = application_df.drop(columns=[\"EIN\"])\n",
    "application_df.head()\n"
   ]
  },
  {
   "cell_type": "code",
   "execution_count": 3,
   "metadata": {
    "colab": {
     "base_uri": "https://localhost:8080/"
    },
    "id": "m5fQ55qS9DdG",
    "outputId": "a6679a82-7d76-486d-8d7b-e17009e4f904"
   },
   "outputs": [
    {
     "data": {
      "text/plain": [
       "NAME                      19568\n",
       "APPLICATION_TYPE             17\n",
       "AFFILIATION                   6\n",
       "CLASSIFICATION               71\n",
       "USE_CASE                      5\n",
       "ORGANIZATION                  4\n",
       "STATUS                        2\n",
       "INCOME_AMT                    9\n",
       "SPECIAL_CONSIDERATIONS        2\n",
       "ASK_AMT                    8747\n",
       "IS_SUCCESSFUL                 2\n",
       "dtype: int64"
      ]
     },
     "execution_count": 3,
     "metadata": {},
     "output_type": "execute_result"
    }
   ],
   "source": [
    "# Determine the number of unique values in each column.\n",
    "#  YOUR CODE GOES HERE\n",
    "application_df.nunique()"
   ]
  },
  {
   "cell_type": "code",
   "execution_count": null,
   "metadata": {
    "id": "OnD-vVb3hEA4"
   },
   "outputs": [],
   "source": []
  },
  {
   "cell_type": "code",
   "execution_count": 4,
   "metadata": {
    "colab": {
     "base_uri": "https://localhost:8080/"
    },
    "id": "E6EUQyS59DdG",
    "outputId": "283cf1d5-cabd-4eaf-d1d0-1ef8db3e45bc"
   },
   "outputs": [
    {
     "data": {
      "text/plain": [
       "APPLICATION_TYPE\n",
       "T3     27037\n",
       "T4      1542\n",
       "T6      1216\n",
       "T5      1173\n",
       "T19     1065\n",
       "T8       737\n",
       "T7       725\n",
       "T10      528\n",
       "T9       156\n",
       "T13       66\n",
       "T12       27\n",
       "T2        16\n",
       "T25        3\n",
       "T14        3\n",
       "T29        2\n",
       "T15        2\n",
       "T17        1\n",
       "Name: count, dtype: int64"
      ]
     },
     "execution_count": 4,
     "metadata": {},
     "output_type": "execute_result"
    }
   ],
   "source": [
    "# Look at APPLICATION_TYPE value counts for binning\n",
    "#  YOUR CODE GOES HERE\n",
    "application__counts = application_df[\"APPLICATION_TYPE\"].value_counts()\n",
    "application__counts"
   ]
  },
  {
   "cell_type": "code",
   "execution_count": 5,
   "metadata": {
    "colab": {
     "base_uri": "https://localhost:8080/"
    },
    "id": "RLEWucTShH8G",
    "outputId": "eed21be3-e66c-48f0-8d8c-8cbd03b3ff33"
   },
   "outputs": [
    {
     "data": {
      "text/plain": [
       "APPLICATION_TYPE\n",
       "T9     156\n",
       "T13     66\n",
       "T12     27\n",
       "T2      16\n",
       "T25      3\n",
       "T14      3\n",
       "T29      2\n",
       "T15      2\n",
       "T17      1\n",
       "Name: count, dtype: int64"
      ]
     },
     "execution_count": 5,
     "metadata": {},
     "output_type": "execute_result"
    }
   ],
   "source": [
    "application__counts[application__counts < 500]"
   ]
  },
  {
   "cell_type": "code",
   "execution_count": 6,
   "metadata": {
    "colab": {
     "base_uri": "https://localhost:8080/"
    },
    "id": "7GmP63UThiwB",
    "outputId": "30af0e5c-b8d1-4f6a-c56f-74952db15019"
   },
   "outputs": [
    {
     "data": {
      "text/plain": [
       "Index(['T9', 'T13', 'T12', 'T2', 'T25', 'T14', 'T29', 'T15', 'T17'], dtype='object', name='APPLICATION_TYPE')"
      ]
     },
     "execution_count": 6,
     "metadata": {},
     "output_type": "execute_result"
    }
   ],
   "source": [
    "application__counts[application__counts < 500].index"
   ]
  },
  {
   "cell_type": "code",
   "execution_count": 7,
   "metadata": {
    "colab": {
     "base_uri": "https://localhost:8080/"
    },
    "id": "QmP8YLw39DdH",
    "outputId": "6d341a4b-4b4d-45d6-fb3d-15d951232f56"
   },
   "outputs": [
    {
     "data": {
      "text/plain": [
       "APPLICATION_TYPE\n",
       "T3       27037\n",
       "T4        1542\n",
       "T6        1216\n",
       "T5        1173\n",
       "T19       1065\n",
       "T8         737\n",
       "T7         725\n",
       "T10        528\n",
       "Other      276\n",
       "Name: count, dtype: int64"
      ]
     },
     "execution_count": 7,
     "metadata": {},
     "output_type": "execute_result"
    }
   ],
   "source": [
    "# Choose a cutoff value and create a list of application types to be replaced\n",
    "# use the variable name `application_types_to_replace`\n",
    "#  YOUR CODE GOES HERE\n",
    "application_types_to_replace = list(application__counts[application__counts < 500].index)\n",
    "\n",
    "# Replace in dataframe\n",
    "for app in application_types_to_replace:\n",
    "    application_df['APPLICATION_TYPE'] = application_df['APPLICATION_TYPE'].replace(app,\"Other\")\n",
    "\n",
    "# Check to make sure binning was successful\n",
    "application_df['APPLICATION_TYPE'].value_counts()"
   ]
  },
  {
   "cell_type": "code",
   "execution_count": 8,
   "metadata": {
    "colab": {
     "base_uri": "https://localhost:8080/"
    },
    "id": "8EmeuXvQ9DdH",
    "outputId": "9255849d-ae4b-4460-a25b-1e377674bcc0"
   },
   "outputs": [
    {
     "data": {
      "text/plain": [
       "CLASSIFICATION\n",
       "C1000    17326\n",
       "C2000     6074\n",
       "C1200     4837\n",
       "C3000     1918\n",
       "C2100     1883\n",
       "         ...  \n",
       "C4120        1\n",
       "C8210        1\n",
       "C2561        1\n",
       "C4500        1\n",
       "C2150        1\n",
       "Name: count, Length: 71, dtype: int64"
      ]
     },
     "execution_count": 8,
     "metadata": {},
     "output_type": "execute_result"
    }
   ],
   "source": [
    "# Look at CLASSIFICATION value counts for binning\n",
    "#  YOUR CODE GOES HERE\n",
    "class_counts = application_df[\"CLASSIFICATION\"].value_counts()\n",
    "class_counts"
   ]
  },
  {
   "cell_type": "code",
   "execution_count": 9,
   "metadata": {
    "colab": {
     "base_uri": "https://localhost:8080/"
    },
    "id": "UPn0JCRC9DdH",
    "outputId": "9f05558c-0fa8-47c4-a37f-c1f0f703a4e1"
   },
   "outputs": [
    {
     "data": {
      "text/plain": [
       "CLASSIFICATION\n",
       "C1000    17326\n",
       "C2000     6074\n",
       "C1200     4837\n",
       "C3000     1918\n",
       "C2100     1883\n",
       "         ...  \n",
       "C4120        1\n",
       "C8210        1\n",
       "C2561        1\n",
       "C4500        1\n",
       "C2150        1\n",
       "Name: count, Length: 71, dtype: int64"
      ]
     },
     "execution_count": 9,
     "metadata": {},
     "output_type": "execute_result"
    }
   ],
   "source": [
    "# You may find it helpful to look at CLASSIFICATION value counts >1\n",
    "#  YOUR CODE GOES HERE\n",
    "class_counts[class_counts > 1]\n",
    "class_counts"
   ]
  },
  {
   "cell_type": "code",
   "execution_count": 10,
   "metadata": {
    "colab": {
     "base_uri": "https://localhost:8080/"
    },
    "id": "WW9KIBhtiLPm",
    "outputId": "b32c2868-c5c1-46d6-9f24-2e277894db92"
   },
   "outputs": [
    {
     "data": {
      "text/plain": [
       "CLASSIFICATION\n",
       "C1000    17326\n",
       "C2000     6074\n",
       "C1200     4837\n",
       "C3000     1918\n",
       "C2100     1883\n",
       "         ...  \n",
       "C4120        1\n",
       "C8210        1\n",
       "C2561        1\n",
       "C4500        1\n",
       "C2150        1\n",
       "Name: count, Length: 71, dtype: int64"
      ]
     },
     "execution_count": 10,
     "metadata": {},
     "output_type": "execute_result"
    }
   ],
   "source": [
    "class_counts[class_counts > 10]\n",
    "class_counts"
   ]
  },
  {
   "cell_type": "code",
   "execution_count": 11,
   "metadata": {
    "colab": {
     "base_uri": "https://localhost:8080/"
    },
    "id": "A7V7F4My9DdI",
    "outputId": "c17c2167-4b9e-4a24-a16a-f99a4ca168c1"
   },
   "outputs": [
    {
     "data": {
      "text/plain": [
       "CLASSIFICATION\n",
       "C1000    17326\n",
       "C2000     6074\n",
       "C1200     4837\n",
       "Other     2261\n",
       "C3000     1918\n",
       "C2100     1883\n",
       "Name: count, dtype: int64"
      ]
     },
     "execution_count": 11,
     "metadata": {},
     "output_type": "execute_result"
    }
   ],
   "source": [
    "# Choose a cutoff value and create a list of classifications to be replaced\n",
    "# use the variable name `classifications_to_replace`\n",
    "#  YOUR CODE GOES HERE\n",
    "classifications_to_replace = list(class_counts[class_counts < 1000].index)\n",
    "\n",
    "# Replace in dataframe\n",
    "for cls in classifications_to_replace:\n",
    "    application_df['CLASSIFICATION'] = application_df['CLASSIFICATION'].replace(cls,\"Other\")\n",
    "\n",
    "# Check to make sure binning was successful\n",
    "application_df['CLASSIFICATION'].value_counts()"
   ]
  },
  {
   "cell_type": "code",
   "execution_count": 12,
   "metadata": {
    "colab": {
     "base_uri": "https://localhost:8080/",
     "height": 600
    },
    "id": "n_8b55Kr9DdI",
    "outputId": "bdc687f1-fbfc-4173-d753-38e7ecdeb9af"
   },
   "outputs": [
    {
     "data": {
      "text/html": [
       "<div>\n",
       "<style scoped>\n",
       "    .dataframe tbody tr th:only-of-type {\n",
       "        vertical-align: middle;\n",
       "    }\n",
       "\n",
       "    .dataframe tbody tr th {\n",
       "        vertical-align: top;\n",
       "    }\n",
       "\n",
       "    .dataframe thead th {\n",
       "        text-align: right;\n",
       "    }\n",
       "</style>\n",
       "<table border=\"1\" class=\"dataframe\">\n",
       "  <thead>\n",
       "    <tr style=\"text-align: right;\">\n",
       "      <th></th>\n",
       "      <th>STATUS</th>\n",
       "      <th>ASK_AMT</th>\n",
       "      <th>IS_SUCCESSFUL</th>\n",
       "      <th>NAME_1 DAY RANCH RESCUE AND RURAL OKLAHOMA ANIMAL RESOURCE INC</th>\n",
       "      <th>NAME_100 BLACK MEN OF AMERICA</th>\n",
       "      <th>NAME_100 BLACK MEN OF MEMPHIS INC</th>\n",
       "      <th>NAME_100 BLACK MEN OF WEST GEORGIA INC</th>\n",
       "      <th>NAME_1150 WEBSTER STREET INC</th>\n",
       "      <th>NAME_116TH CAVALRY REGIMENT CHAPTER OF THE US CAVALRY &amp; ARMOR ASSOCIATION</th>\n",
       "      <th>NAME_13TH BOMB SQUADRON ASSOCIATION</th>\n",
       "      <th>...</th>\n",
       "      <th>INCOME_AMT_1-9999</th>\n",
       "      <th>INCOME_AMT_10000-24999</th>\n",
       "      <th>INCOME_AMT_100000-499999</th>\n",
       "      <th>INCOME_AMT_10M-50M</th>\n",
       "      <th>INCOME_AMT_1M-5M</th>\n",
       "      <th>INCOME_AMT_25000-99999</th>\n",
       "      <th>INCOME_AMT_50M+</th>\n",
       "      <th>INCOME_AMT_5M-10M</th>\n",
       "      <th>SPECIAL_CONSIDERATIONS_N</th>\n",
       "      <th>SPECIAL_CONSIDERATIONS_Y</th>\n",
       "    </tr>\n",
       "  </thead>\n",
       "  <tbody>\n",
       "    <tr>\n",
       "      <th>0</th>\n",
       "      <td>1</td>\n",
       "      <td>5000</td>\n",
       "      <td>1</td>\n",
       "      <td>False</td>\n",
       "      <td>False</td>\n",
       "      <td>False</td>\n",
       "      <td>False</td>\n",
       "      <td>False</td>\n",
       "      <td>False</td>\n",
       "      <td>False</td>\n",
       "      <td>...</td>\n",
       "      <td>False</td>\n",
       "      <td>False</td>\n",
       "      <td>False</td>\n",
       "      <td>False</td>\n",
       "      <td>False</td>\n",
       "      <td>False</td>\n",
       "      <td>False</td>\n",
       "      <td>False</td>\n",
       "      <td>True</td>\n",
       "      <td>False</td>\n",
       "    </tr>\n",
       "    <tr>\n",
       "      <th>1</th>\n",
       "      <td>1</td>\n",
       "      <td>108590</td>\n",
       "      <td>1</td>\n",
       "      <td>False</td>\n",
       "      <td>False</td>\n",
       "      <td>False</td>\n",
       "      <td>False</td>\n",
       "      <td>False</td>\n",
       "      <td>False</td>\n",
       "      <td>False</td>\n",
       "      <td>...</td>\n",
       "      <td>True</td>\n",
       "      <td>False</td>\n",
       "      <td>False</td>\n",
       "      <td>False</td>\n",
       "      <td>False</td>\n",
       "      <td>False</td>\n",
       "      <td>False</td>\n",
       "      <td>False</td>\n",
       "      <td>True</td>\n",
       "      <td>False</td>\n",
       "    </tr>\n",
       "    <tr>\n",
       "      <th>2</th>\n",
       "      <td>1</td>\n",
       "      <td>5000</td>\n",
       "      <td>0</td>\n",
       "      <td>False</td>\n",
       "      <td>False</td>\n",
       "      <td>False</td>\n",
       "      <td>False</td>\n",
       "      <td>False</td>\n",
       "      <td>False</td>\n",
       "      <td>False</td>\n",
       "      <td>...</td>\n",
       "      <td>False</td>\n",
       "      <td>False</td>\n",
       "      <td>False</td>\n",
       "      <td>False</td>\n",
       "      <td>False</td>\n",
       "      <td>False</td>\n",
       "      <td>False</td>\n",
       "      <td>False</td>\n",
       "      <td>True</td>\n",
       "      <td>False</td>\n",
       "    </tr>\n",
       "    <tr>\n",
       "      <th>3</th>\n",
       "      <td>1</td>\n",
       "      <td>6692</td>\n",
       "      <td>1</td>\n",
       "      <td>False</td>\n",
       "      <td>False</td>\n",
       "      <td>False</td>\n",
       "      <td>False</td>\n",
       "      <td>False</td>\n",
       "      <td>False</td>\n",
       "      <td>False</td>\n",
       "      <td>...</td>\n",
       "      <td>False</td>\n",
       "      <td>True</td>\n",
       "      <td>False</td>\n",
       "      <td>False</td>\n",
       "      <td>False</td>\n",
       "      <td>False</td>\n",
       "      <td>False</td>\n",
       "      <td>False</td>\n",
       "      <td>True</td>\n",
       "      <td>False</td>\n",
       "    </tr>\n",
       "    <tr>\n",
       "      <th>4</th>\n",
       "      <td>1</td>\n",
       "      <td>142590</td>\n",
       "      <td>1</td>\n",
       "      <td>False</td>\n",
       "      <td>False</td>\n",
       "      <td>False</td>\n",
       "      <td>False</td>\n",
       "      <td>False</td>\n",
       "      <td>False</td>\n",
       "      <td>False</td>\n",
       "      <td>...</td>\n",
       "      <td>False</td>\n",
       "      <td>False</td>\n",
       "      <td>True</td>\n",
       "      <td>False</td>\n",
       "      <td>False</td>\n",
       "      <td>False</td>\n",
       "      <td>False</td>\n",
       "      <td>False</td>\n",
       "      <td>True</td>\n",
       "      <td>False</td>\n",
       "    </tr>\n",
       "    <tr>\n",
       "      <th>...</th>\n",
       "      <td>...</td>\n",
       "      <td>...</td>\n",
       "      <td>...</td>\n",
       "      <td>...</td>\n",
       "      <td>...</td>\n",
       "      <td>...</td>\n",
       "      <td>...</td>\n",
       "      <td>...</td>\n",
       "      <td>...</td>\n",
       "      <td>...</td>\n",
       "      <td>...</td>\n",
       "      <td>...</td>\n",
       "      <td>...</td>\n",
       "      <td>...</td>\n",
       "      <td>...</td>\n",
       "      <td>...</td>\n",
       "      <td>...</td>\n",
       "      <td>...</td>\n",
       "      <td>...</td>\n",
       "      <td>...</td>\n",
       "      <td>...</td>\n",
       "    </tr>\n",
       "    <tr>\n",
       "      <th>34294</th>\n",
       "      <td>1</td>\n",
       "      <td>5000</td>\n",
       "      <td>0</td>\n",
       "      <td>False</td>\n",
       "      <td>False</td>\n",
       "      <td>False</td>\n",
       "      <td>False</td>\n",
       "      <td>False</td>\n",
       "      <td>False</td>\n",
       "      <td>False</td>\n",
       "      <td>...</td>\n",
       "      <td>False</td>\n",
       "      <td>False</td>\n",
       "      <td>False</td>\n",
       "      <td>False</td>\n",
       "      <td>False</td>\n",
       "      <td>False</td>\n",
       "      <td>False</td>\n",
       "      <td>False</td>\n",
       "      <td>True</td>\n",
       "      <td>False</td>\n",
       "    </tr>\n",
       "    <tr>\n",
       "      <th>34295</th>\n",
       "      <td>1</td>\n",
       "      <td>5000</td>\n",
       "      <td>0</td>\n",
       "      <td>False</td>\n",
       "      <td>False</td>\n",
       "      <td>False</td>\n",
       "      <td>False</td>\n",
       "      <td>False</td>\n",
       "      <td>False</td>\n",
       "      <td>False</td>\n",
       "      <td>...</td>\n",
       "      <td>False</td>\n",
       "      <td>False</td>\n",
       "      <td>False</td>\n",
       "      <td>False</td>\n",
       "      <td>False</td>\n",
       "      <td>False</td>\n",
       "      <td>False</td>\n",
       "      <td>False</td>\n",
       "      <td>True</td>\n",
       "      <td>False</td>\n",
       "    </tr>\n",
       "    <tr>\n",
       "      <th>34296</th>\n",
       "      <td>1</td>\n",
       "      <td>5000</td>\n",
       "      <td>0</td>\n",
       "      <td>False</td>\n",
       "      <td>False</td>\n",
       "      <td>False</td>\n",
       "      <td>False</td>\n",
       "      <td>False</td>\n",
       "      <td>False</td>\n",
       "      <td>False</td>\n",
       "      <td>...</td>\n",
       "      <td>False</td>\n",
       "      <td>False</td>\n",
       "      <td>False</td>\n",
       "      <td>False</td>\n",
       "      <td>False</td>\n",
       "      <td>False</td>\n",
       "      <td>False</td>\n",
       "      <td>False</td>\n",
       "      <td>True</td>\n",
       "      <td>False</td>\n",
       "    </tr>\n",
       "    <tr>\n",
       "      <th>34297</th>\n",
       "      <td>1</td>\n",
       "      <td>5000</td>\n",
       "      <td>1</td>\n",
       "      <td>False</td>\n",
       "      <td>False</td>\n",
       "      <td>False</td>\n",
       "      <td>False</td>\n",
       "      <td>False</td>\n",
       "      <td>False</td>\n",
       "      <td>False</td>\n",
       "      <td>...</td>\n",
       "      <td>False</td>\n",
       "      <td>False</td>\n",
       "      <td>False</td>\n",
       "      <td>False</td>\n",
       "      <td>False</td>\n",
       "      <td>False</td>\n",
       "      <td>False</td>\n",
       "      <td>False</td>\n",
       "      <td>True</td>\n",
       "      <td>False</td>\n",
       "    </tr>\n",
       "    <tr>\n",
       "      <th>34298</th>\n",
       "      <td>1</td>\n",
       "      <td>36500179</td>\n",
       "      <td>0</td>\n",
       "      <td>False</td>\n",
       "      <td>False</td>\n",
       "      <td>False</td>\n",
       "      <td>False</td>\n",
       "      <td>False</td>\n",
       "      <td>False</td>\n",
       "      <td>False</td>\n",
       "      <td>...</td>\n",
       "      <td>False</td>\n",
       "      <td>False</td>\n",
       "      <td>False</td>\n",
       "      <td>False</td>\n",
       "      <td>True</td>\n",
       "      <td>False</td>\n",
       "      <td>False</td>\n",
       "      <td>False</td>\n",
       "      <td>True</td>\n",
       "      <td>False</td>\n",
       "    </tr>\n",
       "  </tbody>\n",
       "</table>\n",
       "<p>34299 rows × 19612 columns</p>\n",
       "</div>"
      ],
      "text/plain": [
       "       STATUS   ASK_AMT  IS_SUCCESSFUL  \\\n",
       "0           1      5000              1   \n",
       "1           1    108590              1   \n",
       "2           1      5000              0   \n",
       "3           1      6692              1   \n",
       "4           1    142590              1   \n",
       "...       ...       ...            ...   \n",
       "34294       1      5000              0   \n",
       "34295       1      5000              0   \n",
       "34296       1      5000              0   \n",
       "34297       1      5000              1   \n",
       "34298       1  36500179              0   \n",
       "\n",
       "       NAME_1 DAY RANCH RESCUE AND RURAL OKLAHOMA ANIMAL RESOURCE INC  \\\n",
       "0                                                  False                \n",
       "1                                                  False                \n",
       "2                                                  False                \n",
       "3                                                  False                \n",
       "4                                                  False                \n",
       "...                                                  ...                \n",
       "34294                                              False                \n",
       "34295                                              False                \n",
       "34296                                              False                \n",
       "34297                                              False                \n",
       "34298                                              False                \n",
       "\n",
       "       NAME_100 BLACK MEN OF AMERICA  NAME_100 BLACK MEN OF MEMPHIS INC  \\\n",
       "0                              False                              False   \n",
       "1                              False                              False   \n",
       "2                              False                              False   \n",
       "3                              False                              False   \n",
       "4                              False                              False   \n",
       "...                              ...                                ...   \n",
       "34294                          False                              False   \n",
       "34295                          False                              False   \n",
       "34296                          False                              False   \n",
       "34297                          False                              False   \n",
       "34298                          False                              False   \n",
       "\n",
       "       NAME_100 BLACK MEN OF WEST GEORGIA INC  NAME_1150 WEBSTER STREET INC  \\\n",
       "0                                       False                         False   \n",
       "1                                       False                         False   \n",
       "2                                       False                         False   \n",
       "3                                       False                         False   \n",
       "4                                       False                         False   \n",
       "...                                       ...                           ...   \n",
       "34294                                   False                         False   \n",
       "34295                                   False                         False   \n",
       "34296                                   False                         False   \n",
       "34297                                   False                         False   \n",
       "34298                                   False                         False   \n",
       "\n",
       "       NAME_116TH CAVALRY REGIMENT CHAPTER OF THE US CAVALRY & ARMOR ASSOCIATION  \\\n",
       "0                                                  False                           \n",
       "1                                                  False                           \n",
       "2                                                  False                           \n",
       "3                                                  False                           \n",
       "4                                                  False                           \n",
       "...                                                  ...                           \n",
       "34294                                              False                           \n",
       "34295                                              False                           \n",
       "34296                                              False                           \n",
       "34297                                              False                           \n",
       "34298                                              False                           \n",
       "\n",
       "       NAME_13TH BOMB SQUADRON ASSOCIATION  ...  INCOME_AMT_1-9999  \\\n",
       "0                                    False  ...              False   \n",
       "1                                    False  ...               True   \n",
       "2                                    False  ...              False   \n",
       "3                                    False  ...              False   \n",
       "4                                    False  ...              False   \n",
       "...                                    ...  ...                ...   \n",
       "34294                                False  ...              False   \n",
       "34295                                False  ...              False   \n",
       "34296                                False  ...              False   \n",
       "34297                                False  ...              False   \n",
       "34298                                False  ...              False   \n",
       "\n",
       "       INCOME_AMT_10000-24999  INCOME_AMT_100000-499999  INCOME_AMT_10M-50M  \\\n",
       "0                       False                     False               False   \n",
       "1                       False                     False               False   \n",
       "2                       False                     False               False   \n",
       "3                        True                     False               False   \n",
       "4                       False                      True               False   \n",
       "...                       ...                       ...                 ...   \n",
       "34294                   False                     False               False   \n",
       "34295                   False                     False               False   \n",
       "34296                   False                     False               False   \n",
       "34297                   False                     False               False   \n",
       "34298                   False                     False               False   \n",
       "\n",
       "       INCOME_AMT_1M-5M  INCOME_AMT_25000-99999  INCOME_AMT_50M+  \\\n",
       "0                 False                   False            False   \n",
       "1                 False                   False            False   \n",
       "2                 False                   False            False   \n",
       "3                 False                   False            False   \n",
       "4                 False                   False            False   \n",
       "...                 ...                     ...              ...   \n",
       "34294             False                   False            False   \n",
       "34295             False                   False            False   \n",
       "34296             False                   False            False   \n",
       "34297             False                   False            False   \n",
       "34298              True                   False            False   \n",
       "\n",
       "       INCOME_AMT_5M-10M  SPECIAL_CONSIDERATIONS_N  SPECIAL_CONSIDERATIONS_Y  \n",
       "0                  False                      True                     False  \n",
       "1                  False                      True                     False  \n",
       "2                  False                      True                     False  \n",
       "3                  False                      True                     False  \n",
       "4                  False                      True                     False  \n",
       "...                  ...                       ...                       ...  \n",
       "34294              False                      True                     False  \n",
       "34295              False                      True                     False  \n",
       "34296              False                      True                     False  \n",
       "34297              False                      True                     False  \n",
       "34298              False                      True                     False  \n",
       "\n",
       "[34299 rows x 19612 columns]"
      ]
     },
     "execution_count": 12,
     "metadata": {},
     "output_type": "execute_result"
    }
   ],
   "source": [
    "# Convert categorical data to numeric with `pd.get_dummies`\n",
    "#  YOUR CODE GOES HERE\n",
    "application_with_dummies_df = pd.get_dummies(application_df)\n",
    "application_with_dummies_df"
   ]
  },
  {
   "cell_type": "code",
   "execution_count": 13,
   "metadata": {
    "id": "N95kqw5F9DdI"
   },
   "outputs": [],
   "source": [
    "# Split our preprocessed data into our features and target arrays\n",
    "#  YOUR CODE GOES HERE\n",
    "X = application_with_dummies_df.drop([\"IS_SUCCESSFUL\"], axis=\"columns\").values\n",
    "y = application_with_dummies_df[\"IS_SUCCESSFUL\"].values\n",
    "\n",
    "# Split the preprocessed data into a training and testing dataset\n",
    "#  YOUR CODE GOES HERE\n",
    "X_train, X_test, y_train, y_test = train_test_split(X, y, random_state=78)"
   ]
  },
  {
   "cell_type": "code",
   "execution_count": 14,
   "metadata": {
    "id": "EpfBO0W29DdI"
   },
   "outputs": [],
   "source": [
    "# Create a StandardScaler instances\n",
    "scaler = StandardScaler()\n",
    "\n",
    "# Fit the StandardScaler\n",
    "X_scaler = scaler.fit(X_train)\n",
    "\n",
    "# Scale the data\n",
    "X_train_scaled = X_scaler.transform(X_train)\n",
    "X_test_scaled = X_scaler.transform(X_test)"
   ]
  },
  {
   "cell_type": "markdown",
   "metadata": {
    "id": "n29Qcn1Q9DdJ"
   },
   "source": [
    "## Compile, Train and Evaluate the Model"
   ]
  },
  {
   "cell_type": "code",
   "execution_count": 15,
   "metadata": {
    "colab": {
     "base_uri": "https://localhost:8080/",
     "height": 245
    },
    "id": "qMC3yWUf9DdJ",
    "outputId": "fd487deb-547c-4953-ba07-597ade8f1080"
   },
   "outputs": [
    {
     "name": "stdout",
     "output_type": "stream",
     "text": [
      "WARNING:tensorflow:From C:\\Users\\kento\\anaconda3\\Lib\\site-packages\\keras\\src\\backend.py:873: The name tf.get_default_graph is deprecated. Please use tf.compat.v1.get_default_graph instead.\n",
      "\n",
      "Model: \"sequential\"\n",
      "_________________________________________________________________\n",
      " Layer (type)                Output Shape              Param #   \n",
      "=================================================================\n",
      " dense (Dense)               (None, 100)               1961200   \n",
      "                                                                 \n",
      " dense_1 (Dense)             (None, 30)                3030      \n",
      "                                                                 \n",
      " dense_2 (Dense)             (None, 10)                310       \n",
      "                                                                 \n",
      " dense_3 (Dense)             (None, 1)                 11        \n",
      "                                                                 \n",
      "=================================================================\n",
      "Total params: 1964551 (7.49 MB)\n",
      "Trainable params: 1964551 (7.49 MB)\n",
      "Non-trainable params: 0 (0.00 Byte)\n",
      "_________________________________________________________________\n"
     ]
    }
   ],
   "source": [
    "# Define the model - deep neural net, i.e., the number of input features and hidden nodes for each layer.\n",
    "#  YOUR CODE GOES HERE\n",
    "number_input_feature = len(X_train[0])\n",
    "hidden_nodes_layers1 = 100\n",
    "hidden_nodes_layers2 = 30\n",
    "hidden_nodes_layers3 = 10\n",
    "\n",
    "\n",
    "nn = tf.keras.models.Sequential()\n",
    "\n",
    "# First hidden layer\n",
    "#  YOUR CODE GOES HERE\n",
    "nn.add(\n",
    "    tf.keras.layers.Dense(units=hidden_nodes_layers1, input_dim=number_input_feature, activation=\"relu\")\n",
    ")\n",
    "\n",
    "# Second hidden layer\n",
    "#  YOUR CODE GOES HERE\n",
    "nn.add(\n",
    "    tf.keras.layers.Dense(units=hidden_nodes_layers2, activation=\"sigmoid\")\n",
    ")\n",
    "\n",
    "nn.add(\n",
    "    tf.keras.layers.Dense(units=hidden_nodes_layers3, activation=\"sigmoid\")\n",
    ")\n",
    "\n",
    "\n",
    "\n",
    "\n",
    "# Output layer\n",
    "#  YOUR CODE GOES HERE\n",
    "nn.add(\n",
    "    tf.keras.layers.Dense(units=1, activation=\"sigmoid\")\n",
    ")\n",
    "\n",
    "# Check the structure of the model\n",
    "nn.summary()"
   ]
  },
  {
   "cell_type": "code",
   "execution_count": 16,
   "metadata": {
    "id": "3_ZwZcHw9DdJ"
   },
   "outputs": [
    {
     "name": "stdout",
     "output_type": "stream",
     "text": [
      "WARNING:tensorflow:From C:\\Users\\kento\\anaconda3\\Lib\\site-packages\\keras\\src\\optimizers\\__init__.py:309: The name tf.train.Optimizer is deprecated. Please use tf.compat.v1.train.Optimizer instead.\n",
      "\n"
     ]
    }
   ],
   "source": [
    "# Compile the model\n",
    "#  YOUR CODE GOES HERE\n",
    "nn.compile(loss=\"binary_crossentropy\", optimizer=\"adam\", metrics=[\"accuracy\"])"
   ]
  },
  {
   "cell_type": "code",
   "execution_count": 17,
   "metadata": {
    "colab": {
     "base_uri": "https://localhost:8080/"
    },
    "id": "nK2nvGZH9DdJ",
    "outputId": "05e40cca-7806-4af4-97c3-45e47042072e"
   },
   "outputs": [
    {
     "name": "stdout",
     "output_type": "stream",
     "text": [
      "Epoch 1/100\n",
      "WARNING:tensorflow:From C:\\Users\\kento\\anaconda3\\Lib\\site-packages\\keras\\src\\utils\\tf_utils.py:492: The name tf.ragged.RaggedTensorValue is deprecated. Please use tf.compat.v1.ragged.RaggedTensorValue instead.\n",
      "\n",
      "WARNING:tensorflow:From C:\\Users\\kento\\anaconda3\\Lib\\site-packages\\keras\\src\\engine\\base_layer_utils.py:384: The name tf.executing_eagerly_outside_functions is deprecated. Please use tf.compat.v1.executing_eagerly_outside_functions instead.\n",
      "\n",
      "804/804 [==============================] - 11s 11ms/step - loss: 0.5803 - accuracy: 0.7366\n",
      "Epoch 2/100\n",
      "804/804 [==============================] - 9s 11ms/step - loss: 0.3854 - accuracy: 0.8366\n",
      "Epoch 3/100\n",
      "804/804 [==============================] - 8s 10ms/step - loss: 0.1784 - accuracy: 0.9414\n",
      "Epoch 4/100\n",
      "804/804 [==============================] - 8s 10ms/step - loss: 0.1118 - accuracy: 0.9621\n",
      "Epoch 5/100\n",
      "804/804 [==============================] - 8s 10ms/step - loss: 0.1038 - accuracy: 0.9627\n",
      "Epoch 6/100\n",
      "804/804 [==============================] - 8s 10ms/step - loss: 0.0978 - accuracy: 0.9628\n",
      "Epoch 7/100\n",
      "804/804 [==============================] - 8s 10ms/step - loss: 0.0953 - accuracy: 0.9621\n",
      "Epoch 8/100\n",
      "804/804 [==============================] - 8s 10ms/step - loss: 0.0928 - accuracy: 0.9628\n",
      "Epoch 9/100\n",
      "804/804 [==============================] - 9s 11ms/step - loss: 0.0915 - accuracy: 0.9635\n",
      "Epoch 10/100\n",
      "804/804 [==============================] - 8s 10ms/step - loss: 0.0927 - accuracy: 0.9626\n",
      "Epoch 11/100\n",
      "804/804 [==============================] - 8s 11ms/step - loss: 0.0915 - accuracy: 0.9633\n",
      "Epoch 12/100\n",
      "804/804 [==============================] - 8s 10ms/step - loss: 0.0895 - accuracy: 0.9629\n",
      "Epoch 13/100\n",
      "804/804 [==============================] - 8s 10ms/step - loss: 0.0903 - accuracy: 0.9624\n",
      "Epoch 14/100\n",
      "804/804 [==============================] - 8s 10ms/step - loss: 0.0897 - accuracy: 0.9630\n",
      "Epoch 15/100\n",
      "804/804 [==============================] - 8s 10ms/step - loss: 0.0892 - accuracy: 0.9636\n",
      "Epoch 16/100\n",
      "804/804 [==============================] - 8s 10ms/step - loss: 0.0891 - accuracy: 0.9640\n",
      "Epoch 17/100\n",
      "804/804 [==============================] - 8s 10ms/step - loss: 0.0890 - accuracy: 0.9637\n",
      "Epoch 18/100\n",
      "804/804 [==============================] - 8s 10ms/step - loss: 0.0882 - accuracy: 0.9642\n",
      "Epoch 19/100\n",
      "804/804 [==============================] - 8s 10ms/step - loss: 0.0883 - accuracy: 0.9639\n",
      "Epoch 20/100\n",
      "804/804 [==============================] - 8s 10ms/step - loss: 0.0878 - accuracy: 0.9644\n",
      "Epoch 21/100\n",
      "804/804 [==============================] - 8s 10ms/step - loss: 0.0881 - accuracy: 0.9633\n",
      "Epoch 22/100\n",
      "804/804 [==============================] - 8s 10ms/step - loss: 0.0870 - accuracy: 0.9637\n",
      "Epoch 23/100\n",
      "804/804 [==============================] - 8s 11ms/step - loss: 0.0867 - accuracy: 0.9642\n",
      "Epoch 24/100\n",
      "804/804 [==============================] - 9s 11ms/step - loss: 0.0864 - accuracy: 0.9639\n",
      "Epoch 25/100\n",
      "804/804 [==============================] - 9s 11ms/step - loss: 0.0865 - accuracy: 0.9642\n",
      "Epoch 26/100\n",
      "804/804 [==============================] - 9s 11ms/step - loss: 0.0879 - accuracy: 0.9645\n",
      "Epoch 27/100\n",
      "804/804 [==============================] - 9s 11ms/step - loss: 0.0871 - accuracy: 0.9645\n",
      "Epoch 28/100\n",
      "804/804 [==============================] - 8s 10ms/step - loss: 0.0863 - accuracy: 0.9649\n",
      "Epoch 29/100\n",
      "804/804 [==============================] - 8s 10ms/step - loss: 0.0863 - accuracy: 0.9649\n",
      "Epoch 30/100\n",
      "804/804 [==============================] - 8s 10ms/step - loss: 0.0859 - accuracy: 0.9648\n",
      "Epoch 31/100\n",
      "804/804 [==============================] - 8s 10ms/step - loss: 0.0856 - accuracy: 0.9650\n",
      "Epoch 32/100\n",
      "804/804 [==============================] - 8s 10ms/step - loss: 0.0860 - accuracy: 0.9648\n",
      "Epoch 33/100\n",
      "804/804 [==============================] - 8s 10ms/step - loss: 0.0864 - accuracy: 0.9640\n",
      "Epoch 34/100\n",
      "804/804 [==============================] - 8s 10ms/step - loss: 0.0857 - accuracy: 0.9652\n",
      "Epoch 35/100\n",
      "804/804 [==============================] - 9s 11ms/step - loss: 0.0852 - accuracy: 0.9649\n",
      "Epoch 36/100\n",
      "804/804 [==============================] - 9s 11ms/step - loss: 0.0851 - accuracy: 0.9656\n",
      "Epoch 37/100\n",
      "804/804 [==============================] - 9s 11ms/step - loss: 0.0857 - accuracy: 0.9651\n",
      "Epoch 38/100\n",
      "804/804 [==============================] - 9s 11ms/step - loss: 0.0854 - accuracy: 0.9653\n",
      "Epoch 39/100\n",
      "804/804 [==============================] - 9s 11ms/step - loss: 0.0847 - accuracy: 0.9653\n",
      "Epoch 40/100\n",
      "804/804 [==============================] - 9s 11ms/step - loss: 0.0847 - accuracy: 0.9653\n",
      "Epoch 41/100\n",
      "804/804 [==============================] - 9s 11ms/step - loss: 0.0848 - accuracy: 0.9652\n",
      "Epoch 42/100\n",
      "804/804 [==============================] - 9s 11ms/step - loss: 0.0853 - accuracy: 0.9653\n",
      "Epoch 43/100\n",
      "804/804 [==============================] - 8s 10ms/step - loss: 0.0849 - accuracy: 0.9654\n",
      "Epoch 44/100\n",
      "804/804 [==============================] - 8s 10ms/step - loss: 0.0847 - accuracy: 0.9656\n",
      "Epoch 45/100\n",
      "804/804 [==============================] - 8s 10ms/step - loss: 0.0843 - accuracy: 0.9653\n",
      "Epoch 46/100\n",
      "804/804 [==============================] - 9s 11ms/step - loss: 0.0843 - accuracy: 0.9652\n",
      "Epoch 47/100\n",
      "804/804 [==============================] - 8s 10ms/step - loss: 0.0844 - accuracy: 0.9658\n",
      "Epoch 48/100\n",
      "804/804 [==============================] - 8s 10ms/step - loss: 0.0840 - accuracy: 0.9658\n",
      "Epoch 49/100\n",
      "804/804 [==============================] - 8s 10ms/step - loss: 0.0841 - accuracy: 0.9657\n",
      "Epoch 50/100\n",
      "804/804 [==============================] - 8s 10ms/step - loss: 0.0845 - accuracy: 0.9650\n",
      "Epoch 51/100\n",
      "804/804 [==============================] - 8s 10ms/step - loss: 0.0837 - accuracy: 0.9659\n",
      "Epoch 52/100\n",
      "804/804 [==============================] - 9s 11ms/step - loss: 0.0837 - accuracy: 0.9657\n",
      "Epoch 53/100\n",
      "804/804 [==============================] - 9s 11ms/step - loss: 0.0838 - accuracy: 0.9659\n",
      "Epoch 54/100\n",
      "804/804 [==============================] - 9s 11ms/step - loss: 0.0841 - accuracy: 0.9658\n",
      "Epoch 55/100\n",
      "804/804 [==============================] - 9s 11ms/step - loss: 0.0833 - accuracy: 0.9660\n",
      "Epoch 56/100\n",
      "804/804 [==============================] - 9s 11ms/step - loss: 0.0833 - accuracy: 0.9658\n",
      "Epoch 57/100\n",
      "804/804 [==============================] - 8s 11ms/step - loss: 0.0837 - accuracy: 0.9652\n",
      "Epoch 58/100\n",
      "804/804 [==============================] - 8s 10ms/step - loss: 0.0834 - accuracy: 0.9647\n",
      "Epoch 59/100\n",
      "804/804 [==============================] - 8s 10ms/step - loss: 0.0829 - accuracy: 0.9655\n",
      "Epoch 60/100\n",
      "804/804 [==============================] - 8s 10ms/step - loss: 0.0830 - accuracy: 0.9657\n",
      "Epoch 61/100\n",
      "804/804 [==============================] - 8s 10ms/step - loss: 0.0828 - accuracy: 0.9656\n",
      "Epoch 62/100\n",
      "804/804 [==============================] - 8s 11ms/step - loss: 0.0828 - accuracy: 0.9666\n",
      "Epoch 63/100\n",
      "804/804 [==============================] - 8s 10ms/step - loss: 0.0828 - accuracy: 0.9664\n",
      "Epoch 64/100\n",
      "804/804 [==============================] - 8s 10ms/step - loss: 0.0828 - accuracy: 0.9658\n",
      "Epoch 65/100\n",
      "804/804 [==============================] - 8s 10ms/step - loss: 0.0837 - accuracy: 0.9664\n",
      "Epoch 66/100\n",
      "804/804 [==============================] - 9s 11ms/step - loss: 0.0831 - accuracy: 0.9663\n",
      "Epoch 67/100\n",
      "804/804 [==============================] - 9s 11ms/step - loss: 0.0832 - accuracy: 0.9663\n",
      "Epoch 68/100\n",
      "804/804 [==============================] - 9s 11ms/step - loss: 0.0830 - accuracy: 0.9663\n",
      "Epoch 69/100\n",
      "804/804 [==============================] - 9s 11ms/step - loss: 0.0830 - accuracy: 0.9660\n",
      "Epoch 70/100\n",
      "804/804 [==============================] - 9s 11ms/step - loss: 0.0827 - accuracy: 0.9662\n",
      "Epoch 71/100\n",
      "804/804 [==============================] - 9s 11ms/step - loss: 0.1157 - accuracy: 0.9562\n",
      "Epoch 72/100\n",
      "804/804 [==============================] - 9s 11ms/step - loss: 0.2393 - accuracy: 0.9034\n",
      "Epoch 73/100\n",
      "804/804 [==============================] - 8s 11ms/step - loss: 0.1578 - accuracy: 0.9405\n",
      "Epoch 74/100\n",
      "804/804 [==============================] - 8s 11ms/step - loss: 0.1131 - accuracy: 0.9562\n",
      "Epoch 75/100\n",
      "804/804 [==============================] - 8s 10ms/step - loss: 0.0987 - accuracy: 0.9612\n",
      "Epoch 76/100\n"
     ]
    },
    {
     "name": "stdout",
     "output_type": "stream",
     "text": [
      "804/804 [==============================] - 8s 10ms/step - loss: 0.0952 - accuracy: 0.9625\n",
      "Epoch 77/100\n",
      "804/804 [==============================] - 8s 10ms/step - loss: 0.0934 - accuracy: 0.9621\n",
      "Epoch 78/100\n",
      "804/804 [==============================] - 8s 10ms/step - loss: 0.0927 - accuracy: 0.9623\n",
      "Epoch 79/100\n",
      "804/804 [==============================] - 10s 12ms/step - loss: 0.0913 - accuracy: 0.9620\n",
      "Epoch 80/100\n",
      "804/804 [==============================] - 9s 12ms/step - loss: 0.0916 - accuracy: 0.9628\n",
      "Epoch 81/100\n",
      "804/804 [==============================] - 9s 11ms/step - loss: 0.0922 - accuracy: 0.9628\n",
      "Epoch 82/100\n",
      "804/804 [==============================] - 9s 11ms/step - loss: 0.0907 - accuracy: 0.9630\n",
      "Epoch 83/100\n",
      "804/804 [==============================] - 9s 11ms/step - loss: 0.0903 - accuracy: 0.9641\n",
      "Epoch 84/100\n",
      "804/804 [==============================] - 9s 11ms/step - loss: 0.0916 - accuracy: 0.9635\n",
      "Epoch 85/100\n",
      "804/804 [==============================] - 9s 11ms/step - loss: 0.0915 - accuracy: 0.9635\n",
      "Epoch 86/100\n",
      "804/804 [==============================] - 8s 10ms/step - loss: 0.0895 - accuracy: 0.9633\n",
      "Epoch 87/100\n",
      "804/804 [==============================] - 8s 10ms/step - loss: 0.0910 - accuracy: 0.9634\n",
      "Epoch 88/100\n",
      "804/804 [==============================] - 8s 10ms/step - loss: 0.0912 - accuracy: 0.9638\n",
      "Epoch 89/100\n",
      "804/804 [==============================] - 8s 10ms/step - loss: 0.0901 - accuracy: 0.9629\n",
      "Epoch 90/100\n",
      "804/804 [==============================] - 8s 10ms/step - loss: 0.0896 - accuracy: 0.9642\n",
      "Epoch 91/100\n",
      "804/804 [==============================] - 8s 10ms/step - loss: 0.0906 - accuracy: 0.9635\n",
      "Epoch 92/100\n",
      "804/804 [==============================] - 8s 10ms/step - loss: 0.0921 - accuracy: 0.9635\n",
      "Epoch 93/100\n",
      "804/804 [==============================] - 8s 10ms/step - loss: 0.0904 - accuracy: 0.9639\n",
      "Epoch 94/100\n",
      "804/804 [==============================] - 9s 11ms/step - loss: 0.0903 - accuracy: 0.9630\n",
      "Epoch 95/100\n",
      "804/804 [==============================] - 9s 11ms/step - loss: 0.0887 - accuracy: 0.9641\n",
      "Epoch 96/100\n",
      "804/804 [==============================] - 9s 11ms/step - loss: 0.0887 - accuracy: 0.9640\n",
      "Epoch 97/100\n",
      "804/804 [==============================] - 9s 11ms/step - loss: 0.0882 - accuracy: 0.9648\n",
      "Epoch 98/100\n",
      "804/804 [==============================] - 9s 11ms/step - loss: 0.0877 - accuracy: 0.9652\n",
      "Epoch 99/100\n",
      "804/804 [==============================] - 9s 11ms/step - loss: 0.0889 - accuracy: 0.9651\n",
      "Epoch 100/100\n",
      "804/804 [==============================] - 8s 10ms/step - loss: 0.0901 - accuracy: 0.9645\n"
     ]
    }
   ],
   "source": [
    "# Train the model\n",
    "#  YOUR CODE GOES HERE\n",
    "fit_model = nn.fit(X_train_scaled, y_train, epochs=100)"
   ]
  },
  {
   "cell_type": "code",
   "execution_count": 18,
   "metadata": {
    "colab": {
     "base_uri": "https://localhost:8080/"
    },
    "id": "dQL4_Ot79DdJ",
    "outputId": "abaa2d1b-cc02-4ee5-bbb1-552928bb1ac2"
   },
   "outputs": [
    {
     "name": "stdout",
     "output_type": "stream",
     "text": [
      "268/268 - 1s - loss: 0.5678 - accuracy: 0.7352 - 787ms/epoch - 3ms/step\n",
      "Loss: 0.5678457617759705, Accuracy: 0.7351603507995605\n"
     ]
    }
   ],
   "source": [
    "# Evaluate the model using the test data\n",
    "model_loss, model_accuracy = nn.evaluate(X_test_scaled,y_test,verbose=2)\n",
    "print(f\"Loss: {model_loss}, Accuracy: {model_accuracy}\")"
   ]
  },
  {
   "cell_type": "code",
   "execution_count": 19,
   "metadata": {
    "colab": {
     "base_uri": "https://localhost:8080/"
    },
    "id": "i-KogPLD9DdJ",
    "outputId": "7a574020-90cb-4609-964e-665f0d45845d"
   },
   "outputs": [
    {
     "name": "stderr",
     "output_type": "stream",
     "text": [
      "C:\\Users\\kento\\anaconda3\\Lib\\site-packages\\keras\\src\\engine\\training.py:3103: UserWarning: You are saving your model as an HDF5 file via `model.save()`. This file format is considered legacy. We recommend using instead the native Keras format, e.g. `model.save('my_model.keras')`.\n",
      "  saving_api.save_model(\n"
     ]
    }
   ],
   "source": [
    "# Export our model to HDF5 file\n",
    "#  YOUR CODE GOES HERE\n",
    "nn.save(\"AlphabetSoupCharity.h5\")"
   ]
  },
  {
   "cell_type": "markdown",
   "metadata": {
    "id": "lEfxDJmLyr-v"
   },
   "source": [
    "# The report should contain the following:\n",
    "\n",
    "# Overview of the analysis: Explain the purpose of this analysis.\n",
    "\n",
    "# Results: Using bulleted lists and images to support your answers, address the following questions:\n",
    "\n",
    "# Data Preprocessing\n",
    "\n",
    "1. What variable(s) are the target(s) for your model?\n",
    "   \n",
    "   Answer: The target is the Is-Successful column\n",
    "\n",
    "2. What variable(s) are the features for your model?\n",
    "   \n",
    "   Answer: These are:\n",
    "                    APPLICATION_TYPE\n",
    "                    AFFILIATION\n",
    "                    CLASSIFICATION\n",
    "                    USE_CASE\n",
    "                    ORGANIZATION\n",
    "                    STATUS\n",
    "                    INCOME_AMT\n",
    "                    SPECIAL_CONSIDERATIONS\n",
    "                    ASK_AMT\n",
    "\n",
    "3. What variable(s) should be removed from the input data because they are neither targets nor features?\n",
    "\n",
    "   Answer: EIN\n",
    "\n",
    "# Compiling, Training, and Evaluating the Model\n",
    "\n",
    "1. How many neurons, layers, and activation functions did you select for your neural network model, and why?\n",
    "\n",
    "  Answer: I used 3 hidden layers hoping to increase the accuracy from \"a\" solution at 72%.  However, it did not turn out to be a small improvement to 73.5%.  \n",
    "\n",
    "2. Were you able to achieve the target model performance?\n",
    "\n",
    "  Anser: Not as expected to be above 75%.\n",
    "\n",
    "3. What steps did you take in your attempts to increase model performance?\n",
    "\n",
    "  Answer: Kept NAME data points since it has has the biggest counts and hoped to inprove the accuracy.\n",
    "\n",
    "# Summary: Summarize the overall results of the deep learning model.\n",
    "\n",
    "I could not achieve the improvement in this model as expected.  Colab kept giving me RAM issue many times and I was unable to run this model in Colab.  I was advised to run this model locally. It took forever to train the model.  "
   ]
  },
  {
   "cell_type": "code",
   "execution_count": 20,
   "metadata": {
    "id": "RzQDHhKz2jar"
   },
   "outputs": [
    {
     "ename": "ImportError",
     "evalue": "cannot import name 'accuracy_scorefrom' from 'sklearn.metrics' (C:\\Users\\kento\\anaconda3\\Lib\\site-packages\\sklearn\\metrics\\__init__.py)",
     "output_type": "error",
     "traceback": [
      "\u001b[1;31m---------------------------------------------------------------------------\u001b[0m",
      "\u001b[1;31mImportError\u001b[0m                               Traceback (most recent call last)",
      "Cell \u001b[1;32mIn[20], line 1\u001b[0m\n\u001b[1;32m----> 1\u001b[0m \u001b[38;5;28;01mfrom\u001b[39;00m \u001b[38;5;21;01msklearn\u001b[39;00m\u001b[38;5;21;01m.\u001b[39;00m\u001b[38;5;21;01mmetrics\u001b[39;00m \u001b[38;5;28;01mimport\u001b[39;00m accuracy_scorefrom\n\u001b[0;32m      2\u001b[0m \u001b[38;5;28;01mfrom\u001b[39;00m \u001b[38;5;21;01msklearn\u001b[39;00m\u001b[38;5;21;01m.\u001b[39;00m\u001b[38;5;21;01mensemble\u001b[39;00m \u001b[38;5;28;01mimport\u001b[39;00m RandomForestClassificatier\n",
      "\u001b[1;31mImportError\u001b[0m: cannot import name 'accuracy_scorefrom' from 'sklearn.metrics' (C:\\Users\\kento\\anaconda3\\Lib\\site-packages\\sklearn\\metrics\\__init__.py)"
     ]
    }
   ],
   "source": [
    "from sklearn.metrics import accuracy_scorefrom\n",
    "from sklearn.ensemble import RandomForestClassificatier"
   ]
  },
  {
   "cell_type": "code",
   "execution_count": 21,
   "metadata": {
    "id": "gQCqtnHf2uzf"
   },
   "outputs": [
    {
     "ename": "NameError",
     "evalue": "name 'RandomForestClassificatier' is not defined",
     "output_type": "error",
     "traceback": [
      "\u001b[1;31m---------------------------------------------------------------------------\u001b[0m",
      "\u001b[1;31mNameError\u001b[0m                                 Traceback (most recent call last)",
      "Cell \u001b[1;32mIn[21], line 1\u001b[0m\n\u001b[1;32m----> 1\u001b[0m rf_model \u001b[38;5;241m=\u001b[39m RandomForestClassificatier(n_estimators\u001b[38;5;241m=\u001b[39m\u001b[38;5;241m120\u001b[39m, random_state\u001b[38;5;241m=\u001b[39m\u001b[38;5;241m78\u001b[39m)\n\u001b[0;32m      3\u001b[0m rf_model \u001b[38;5;241m=\u001b[39m rf\u001b[38;5;241m+\u001b[39m_model\u001b[38;5;241m.\u001b[39mfit(X_train_scaled, y_train)\n\u001b[0;32m      5\u001b[0m y_pred \u001b[38;5;241m=\u001b[39m rf_model\u001b[38;5;241m.\u001b[39mpredict(X_test_scaled)\n",
      "\u001b[1;31mNameError\u001b[0m: name 'RandomForestClassificatier' is not defined"
     ]
    }
   ],
   "source": [
    "rf_model = RandomForestClassificatier(n_estimators=120, random_state=78)\n",
    "\n",
    "rf_model = rf+_model.fit(X_train_scaled, y_train)\n",
    "\n",
    "y_pred = rf_model.predict(X_test_scaled)\n",
    "\n",
    "print(f\"Random forest model accuracy {accuracy_score(y_test, y_pred)}\")\n",
    "\n"
   ]
  }
 ],
 "metadata": {
  "colab": {
   "provenance": []
  },
  "kernelspec": {
   "display_name": "Python 3 (ipykernel)",
   "language": "python",
   "name": "python3"
  },
  "language_info": {
   "codemirror_mode": {
    "name": "ipython",
    "version": 3
   },
   "file_extension": ".py",
   "mimetype": "text/x-python",
   "name": "python",
   "nbconvert_exporter": "python",
   "pygments_lexer": "ipython3",
   "version": "3.11.4"
  },
  "vscode": {
   "interpreter": {
    "hash": "31f2aee4e71d21fbe5cf8b01ff0e069b9275f58929596ceb00d14d90e3e16cd6"
   }
  }
 },
 "nbformat": 4,
 "nbformat_minor": 1
}
